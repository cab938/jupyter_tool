{
 "cells": [
  {
   "cell_type": "markdown",
   "metadata": {},
   "source": [
    "# Basic Example\n",
    "\n",
    "This notebook shows a basic example of how a langchain agent can be set up to use the jupyter notebook tools.\n"
   ]
  },
  {
   "cell_type": "code",
   "execution_count": null,
   "metadata": {},
   "outputs": [],
   "source": [
    "# Install the package first, in this example we'll just install from the editable source\n",
    "# in the repository\n",
    "# !pip install -e ../src/\n",
    "#\n",
    "# You should also be able to install directly from pypi, e.g.\n",
    "# !pip install jupyter-tool"
   ]
  },
  {
   "cell_type": "code",
   "execution_count": 7,
   "metadata": {},
   "outputs": [],
   "source": [
    "# The module contains standard python logging so if you want to see how the tool is used\n",
    "# without using an LLM observation framework this is one way to do it.\n",
    "import logging\n",
    "\n",
    "# Set up root logger\n",
    "logging.basicConfig(\n",
    "    level=logging.WARN, format=\"%(asctime)s - %(name)s - %(levelname)s - %(message)s\"\n",
    ")\n",
    "\n",
    "# Set the log level for the jupyter_tool logger to DEBUG or above\n",
    "logging.getLogger(\"jupyter_tool\").setLevel(logging.DEBUG)"
   ]
  },
  {
   "cell_type": "code",
   "execution_count": 8,
   "metadata": {},
   "outputs": [],
   "source": [
    "# Include any LLM observability framework you might want. There is no additional observability\n",
    "# inside of the module, we leverage langchain methods for all LLM observability.\n",
    "\n",
    "# from langfuse.callback import CallbackHandler\n",
    "\n",
    "# langfuse_handler = CallbackHandler(\n",
    "#     secret_key=\"...\",\n",
    "#     public_key=\"...\",\n",
    "#     host=\"http://172.20.0.7:3000\",\n",
    "# )"
   ]
  },
  {
   "cell_type": "code",
   "execution_count": 4,
   "metadata": {},
   "outputs": [
    {
     "name": "stdout",
     "output_type": "stream",
     "text": [
      "Let me break down what happened:\n",
      "1. First cell: Created `sort_asc()` function that sorts a list in ascending order\n",
      "2. Second cell: Created `sort_desc()` function that sorts a list in descending order\n",
      "3. Third cell: \n",
      "   - `sort_desc([3, 2, 1, 4, 5])` first sorts the list to `[5, 4, 3, 2, 1]`\n",
      "   - Then `sort_asc()` is applied to this result, which returns `[1, 2, 3, 4, 5]`\n",
      "\n",
      "The output of the third cell is `[1, 2, 3, 4, 5]`, which is the list sorted in ascending order.\n"
     ]
    }
   ],
   "source": [
    "# Each function in the module is a unique tool which can be called by the agent.\n",
    "from jupyter_tool import (\n",
    "    load_notebook,\n",
    "    create_notebook,\n",
    "    execute_cell,\n",
    "    delete_cell,\n",
    "    update_cell,\n",
    "    list_cells,\n",
    "    create_cell,\n",
    ")\n",
    "\n",
    "# For this example we'll use AWS Bedrock with Anthropic's Claude model. Different models\n",
    "# will use tools well (or poorly), and this is largely a function of the model's\n",
    "# capabilities around whether they were pretrained to engage in multiturn conversations with\n",
    "# function calls.\n",
    "from langchain_aws.chat_models import ChatBedrockConverse\n",
    "\n",
    "model = ChatBedrockConverse(\n",
    "    model=\"anthropic.claude-3-5-haiku-20241022-v1:0\",\n",
    "    region_name=\"us-west-2\",\n",
    ")\n",
    "\n",
    "# Make a list of the tools you want to give the agent access to\n",
    "tools = [\n",
    "    load_notebook,\n",
    "    create_notebook,\n",
    "    execute_cell,\n",
    "    delete_cell,\n",
    "    update_cell,\n",
    "    list_cells,\n",
    "    create_cell,\n",
    "]\n",
    "\n",
    "# In this basic example we'll use the langgraph prebuilt react agent to execute the tools.\n",
    "from langgraph.prebuilt import create_react_agent\n",
    "\n",
    "langgraph_agent_executor = create_react_agent(model, tools)\n",
    "\n",
    "result = langgraph_agent_executor.invoke(\n",
    "    {\n",
    "        \"messages\": [\n",
    "            (\n",
    "                \"user\",\n",
    "                \"\"\"Create a new jupyter notebook. In the first cell write a small python function sort_asc(lst) that\n",
    "                sorts the elements of a list in ascending order and execute it. In the second cell, write a small python\n",
    "                function sort_desc(lst) that sorts the elements of a list in descending order and execute it. In the third cell, write a\n",
    "                the following and execute it: sort_asc(sort_desc([3, 2, 1, 4, 5])). Provide the output of the third cell.\n",
    "                \"\"\",\n",
    "            )\n",
    "        ]\n",
    "    },\n",
    "    # Uncomment if using an observability framework\n",
    "    # config={\"callbacks\": [langfuse_handler]},\n",
    ")\n",
    "print(result[\"messages\"][-1].content)"
   ]
  }
 ],
 "metadata": {
  "kernelspec": {
   "display_name": ".venv",
   "language": "python",
   "name": "python3"
  },
  "language_info": {
   "codemirror_mode": {
    "name": "ipython",
    "version": 3
   },
   "file_extension": ".py",
   "mimetype": "text/x-python",
   "name": "python",
   "nbconvert_exporter": "python",
   "pygments_lexer": "ipython3",
   "version": "3.12.3"
  }
 },
 "nbformat": 4,
 "nbformat_minor": 2
}

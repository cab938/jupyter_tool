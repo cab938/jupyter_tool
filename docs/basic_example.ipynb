{
 "cells": [
  {
   "cell_type": "markdown",
   "metadata": {},
   "source": [
    "# Basic Example\n",
    "\n",
    "This notebook shows a basic example of how a langchain agent can be set up to use the jupyter notebook tools.\n"
   ]
  },
  {
   "cell_type": "code",
   "execution_count": 6,
   "metadata": {},
   "outputs": [],
   "source": [
    "# Install the package first, in this example we'll just install from the editable source\n",
    "# in the repository\n",
    "# !pip install -e ../src/"
   ]
  },
  {
   "cell_type": "code",
   "execution_count": 7,
   "metadata": {},
   "outputs": [],
   "source": [
    "# The module contains standard python logging so if you want to see how the tool is used\n",
    "# without using an LLM observation framework this is one way to do it.\n",
    "import logging\n",
    "\n",
    "# Set up root logger\n",
    "logging.basicConfig(\n",
    "    level=logging.WARN, format=\"%(asctime)s - %(name)s - %(levelname)s - %(message)s\"\n",
    ")\n",
    "\n",
    "# Set the log level for the jupyter_tool logger to DEBUG or above\n",
    "logging.getLogger(\"jupyter_tool\").setLevel(logging.DEBUG)"
   ]
  },
  {
   "cell_type": "code",
   "execution_count": 8,
   "metadata": {},
   "outputs": [],
   "source": [
    "# Include any LLM observability framework you might want. There is no additional observability\n",
    "# inside of the module, we leverage langchain methods for all LLM observability.\n",
    "\n",
    "# from langfuse.callback import CallbackHandler\n",
    "\n",
    "# langfuse_handler = CallbackHandler(\n",
    "#     secret_key=\"...\",\n",
    "#     public_key=\"...\",\n",
    "#     host=\"http://172.20.0.7:3000\",\n",
    "# )"
   ]
  },
  {
   "cell_type": "code",
   "execution_count": 9,
   "metadata": {},
   "outputs": [
    {
     "name": "stderr",
     "output_type": "stream",
     "text": [
      "2025-02-26 15:49:43,838 - jupyter_tool.jupyter - DEBUG - Creating new empty notebook\n",
      "2025-02-26 15:49:44,389 - jupyter_tool.jupyter - DEBUG - Created new notebook token: 9ad5eade-b1ec-404e-9f69-2d4c2204cfd0\n",
      "2025-02-26 15:49:46,869 - jupyter_tool.jupyter - DEBUG - Creating new code cell in notebook 9ad5eade-b1ec-404e-9f69-2d4c2204cfd0\n",
      "2025-02-26 15:49:46,872 - jupyter_tool.jupyter - DEBUG - Created new cell with ID: 16052fb0-9218-43e7-bdab-465ae0d5d2c3\n",
      "2025-02-26 15:49:49,993 - jupyter_tool.jupyter - DEBUG - Executing cell 16052fb0-9218-43e7-bdab-465ae0d5d2c3 for notebook 9ad5eade-b1ec-404e-9f69-2d4c2204cfd0\n",
      "2025-02-26 15:49:49,994 - jupyter_tool.jupyter - DEBUG - Attempting to execute cell 16052fb0-9218-43e7-bdab-465ae0d5d2c3 at index 0\n",
      "2025-02-26 15:49:50,009 - jupyter_tool.jupyter - DEBUG - Cell 16052fb0-9218-43e7-bdab-465ae0d5d2c3 at index 0 executed successfully\n",
      "2025-02-26 15:49:52,298 - jupyter_tool.jupyter - DEBUG - Creating new code cell in notebook 9ad5eade-b1ec-404e-9f69-2d4c2204cfd0\n",
      "2025-02-26 15:49:52,301 - jupyter_tool.jupyter - DEBUG - Created new cell with ID: 96efb944-8cb4-41d8-8a9e-874360ee6806\n",
      "2025-02-26 15:49:55,543 - jupyter_tool.jupyter - DEBUG - Executing cell 96efb944-8cb4-41d8-8a9e-874360ee6806 for notebook 9ad5eade-b1ec-404e-9f69-2d4c2204cfd0\n",
      "2025-02-26 15:49:55,544 - jupyter_tool.jupyter - DEBUG - Attempting to execute cell 96efb944-8cb4-41d8-8a9e-874360ee6806 at index 1\n",
      "2025-02-26 15:49:55,556 - jupyter_tool.jupyter - DEBUG - Cell 96efb944-8cb4-41d8-8a9e-874360ee6806 at index 1 executed successfully\n",
      "2025-02-26 15:49:58,744 - jupyter_tool.jupyter - DEBUG - Creating new code cell in notebook 9ad5eade-b1ec-404e-9f69-2d4c2204cfd0\n",
      "2025-02-26 15:49:58,747 - jupyter_tool.jupyter - DEBUG - Created new cell with ID: 85b89ac7-39bb-43aa-a41a-0fdc139ec9e7\n",
      "2025-02-26 15:50:01,440 - jupyter_tool.jupyter - DEBUG - Executing cell 85b89ac7-39bb-43aa-a41a-0fdc139ec9e7 for notebook 9ad5eade-b1ec-404e-9f69-2d4c2204cfd0\n",
      "2025-02-26 15:50:01,441 - jupyter_tool.jupyter - DEBUG - Attempting to execute cell 85b89ac7-39bb-43aa-a41a-0fdc139ec9e7 at index 2\n",
      "2025-02-26 15:50:01,452 - jupyter_tool.jupyter - DEBUG - Cell 85b89ac7-39bb-43aa-a41a-0fdc139ec9e7 at index 2 executed successfully\n"
     ]
    },
    {
     "name": "stdout",
     "output_type": "stream",
     "text": [
      "Let me explain what happened:\n",
      "1. First, `sort_desc([3, 2, 1, 4, 5])` sorts the list in descending order, resulting in `[5, 4, 3, 2, 1]`\n",
      "2. Then, `sort_asc([5, 4, 3, 2, 1])` sorts this list in ascending order\n",
      "3. The final output is `[1, 2, 3, 4, 5]`\n",
      "\n",
      "The output of the third cell is `[1, 2, 3, 4, 5]`.\n"
     ]
    }
   ],
   "source": [
    "# Each function in the module is a unique tool which can be called by the agent.\n",
    "from jupyter_tool import (\n",
    "    load_notebook,\n",
    "    create_notebook,\n",
    "    execute_cell,\n",
    "    delete_cell,\n",
    "    update_cell,\n",
    "    list_cells,\n",
    "    create_cell,\n",
    ")\n",
    "\n",
    "# For this example we'll use AWS Bedrock with Anthropic's Claude model. Different models\n",
    "# will use tools well (or poorly), and this is largely a function of the model's\n",
    "# capabilities around whether they were pretrained to engage in multiturn conversations with\n",
    "# function calls.\n",
    "from langchain_aws.chat_models import ChatBedrockConverse\n",
    "\n",
    "model = ChatBedrockConverse(\n",
    "    model=\"anthropic.claude-3-5-haiku-20241022-v1:0\",\n",
    "    region_name=\"us-west-2\",\n",
    ")\n",
    "\n",
    "# Make a list of the tools you want to give the agent access to\n",
    "tools = [\n",
    "    load_notebook,\n",
    "    create_notebook,\n",
    "    execute_cell,\n",
    "    delete_cell,\n",
    "    update_cell,\n",
    "    list_cells,\n",
    "    create_cell,\n",
    "]\n",
    "\n",
    "# In this basic example we'll use the langgraph prebuilt react agent to execute the tools.\n",
    "from langgraph.prebuilt import create_react_agent\n",
    "\n",
    "langgraph_agent_executor = create_react_agent(model, tools)\n",
    "\n",
    "result = langgraph_agent_executor.invoke(\n",
    "    {\n",
    "        \"messages\": [\n",
    "            (\n",
    "                \"user\",\n",
    "                \"\"\"Create a new jupyter notebook. In the first cell write a small python function sort_asc(lst) that\n",
    "                sorts the elements of a list in ascending order and execute it. In the second cell, write a small python\n",
    "                function sort_desc(lst) that sorts the elements of a list in descending order and execute it. In the third cell, write a\n",
    "                the following and execute it: sort_asc(sort_desc([3, 2, 1, 4, 5])). Provide the output of the third cell.\n",
    "                \"\"\",\n",
    "            )\n",
    "        ]\n",
    "    },\n",
    "    # Uncomment if using an observability framework\n",
    "    # config={\"callbacks\": [langfuse_handler]},\n",
    ")\n",
    "print(result[\"messages\"][-1].content)"
   ]
  }
 ],
 "metadata": {
  "kernelspec": {
   "display_name": ".venv",
   "language": "python",
   "name": "python3"
  },
  "language_info": {
   "codemirror_mode": {
    "name": "ipython",
    "version": 3
   },
   "file_extension": ".py",
   "mimetype": "text/x-python",
   "name": "python",
   "nbconvert_exporter": "python",
   "pygments_lexer": "ipython3",
   "version": "3.12.3"
  }
 },
 "nbformat": 4,
 "nbformat_minor": 2
}
